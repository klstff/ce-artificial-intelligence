{
 "cells": [
  {
   "cell_type": "markdown",
   "metadata": {},
   "source": [
    " "
   ]
  },
  {
   "cell_type": "markdown",
   "metadata": {},
   "source": [
    "## A* Search Algorithm"
   ]
  },
  {
   "cell_type": "markdown",
   "metadata": {},
   "source": [
    "<img src=\"map.jpg\" width=\"700\">"
   ]
  },
  {
   "cell_type": "markdown",
   "metadata": {},
   "source": [
    " "
   ]
  },
  {
   "cell_type": "code",
   "execution_count": 4,
   "metadata": {},
   "outputs": [
    {
     "name": "stdout",
     "output_type": "stream",
     "text": [
      "City : Air distance\n",
      "\n",
      "Arad : 366\n",
      "Bucharest : 0\n",
      "Craiova : 160\n",
      "Dobreta : 242\n",
      "Eforie : 161\n",
      "Fagaras : 176\n",
      "Giurgiu : 77\n",
      "Hirsova : 151\n",
      "Iasi : 226\n",
      "Lugoj : 244\n",
      "Mehadia : 241\n",
      "Neamt : 234\n",
      "Oradea : 380\n",
      "Pitesti : 100\n",
      "Rimnicu Vilcea : 193\n",
      "Sibiu : 253\n",
      "Timisoara : 329\n",
      "Urziceni : 80\n",
      "Vaslui : 199\n",
      "Zerind : 374\n"
     ]
    }
   ],
   "source": [
    "from Travel import *\n",
    "\n",
    "print(\"City : Air distance\\n\")\n",
    "city_list = Path.air_distance.keys()\n",
    "for city in city_list:\n",
    "    print(city,\":\",Path.air_distance[city])"
   ]
  },
  {
   "cell_type": "code",
   "execution_count": 6,
   "metadata": {},
   "outputs": [
    {
     "name": "stdout",
     "output_type": "stream",
     "text": [
      "City: greedy + heuristic = cost\n",
      "\n",
      "\n",
      "Origin:\n",
      "- Arad: 0 + 366 = 366 \n",
      "\n",
      "\n",
      "Possibilities:\n",
      "- Zerind: 374 + 75 = 449\n",
      "- Sibiu: 253 + 140 = 393\n",
      "- Timisoara: 329 + 118 = 447\n",
      "Most promising: Sibiu\n",
      "\n",
      "\n",
      "Possibilities:\n",
      "- Timisoara: 329 + 118 = 447\n",
      "- Zerind: 374 + 75 = 449\n",
      "- Oradea: 380 + 291 = 671\n",
      "- Arad: 366 + 280 = 646\n",
      "- Rimnicu Vilcea: 193 + 220 = 413\n",
      "- Fagaras: 176 + 239 = 415\n",
      "Most promising: Rimnicu Vilcea\n",
      "\n",
      "\n",
      "Possibilities:\n",
      "- Fagaras: 176 + 239 = 415\n",
      "- Timisoara: 329 + 118 = 447\n",
      "- Zerind: 374 + 75 = 449\n",
      "- Arad: 366 + 280 = 646\n",
      "- Oradea: 380 + 291 = 671\n",
      "- Sibiu: 253 + 300 = 553\n",
      "- Craiova: 160 + 366 = 526\n",
      "- Pitesti: 100 + 229 = 329\n",
      "Most promising: Pitesti\n",
      "\n",
      "\n",
      "Possibilities:\n",
      "- Fagaras: 176 + 239 = 415\n",
      "- Timisoara: 329 + 118 = 447\n",
      "- Zerind: 374 + 75 = 449\n",
      "- Craiova: 160 + 366 = 526\n",
      "- Sibiu: 253 + 300 = 553\n",
      "- Arad: 366 + 280 = 646\n",
      "- Oradea: 380 + 291 = 671\n",
      "- Bucharest: 0 + 330 = 330\n",
      "- Craiova: 160 + 367 = 527\n",
      "- Rimnicu Vilcea: 193 + 238 = 431\n",
      "Most promising: Bucharest\n",
      "\n",
      "\n",
      "Shortest path: Arad -> Sibiu -> Rimnicu Vilcea -> Pitesti -> Bucharest\n"
     ]
    }
   ],
   "source": [
    "from Travel import *\n",
    "\n",
    "city_list = 'distance.txt'\n",
    "\n",
    "path = Path()\n",
    "path.read_file(city_list)\n",
    "path.search_shortest_path('Arad', 'Bucharest')"
   ]
  }
 ],
 "metadata": {
  "kernelspec": {
   "display_name": "Python 3",
   "language": "python",
   "name": "python3"
  },
  "language_info": {
   "codemirror_mode": {
    "name": "ipython",
    "version": 3
   },
   "file_extension": ".py",
   "mimetype": "text/x-python",
   "name": "python",
   "nbconvert_exporter": "python",
   "pygments_lexer": "ipython3",
   "version": "3.8.5"
  }
 },
 "nbformat": 4,
 "nbformat_minor": 4
}
